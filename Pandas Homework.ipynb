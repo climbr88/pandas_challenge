{
 "cells": [
  {
   "cell_type": "code",
   "execution_count": 18,
   "metadata": {},
   "outputs": [
    {
     "name": "stdout",
     "output_type": "stream",
     "text": [
      "   Purchase ID             SN  Age Gender  Item ID  \\\n",
      "0            0        Lisim78   20   Male      108   \n",
      "1            1    Lisovynya38   40   Male      143   \n",
      "2            2     Ithergue48   24   Male       92   \n",
      "3            3  Chamassasya86   24   Male      100   \n",
      "4            4      Iskosia90   23   Male      131   \n",
      "\n",
      "                                   Item Name  Price  \n",
      "0  Extraction, Quickblade Of Trembling Hands   3.53  \n",
      "1                          Frenzied Scimitar   1.56  \n",
      "2                               Final Critic   4.88  \n",
      "3                                Blindscythe   3.27  \n",
      "4                                       Fury   1.44  \n"
     ]
    }
   ],
   "source": [
    "import pandas as pd\n",
    "import numpy as np\n",
    "file = \"Resources/purchase_data.csv\"\n",
    "df = pd.read_csv(file)\n",
    "df.head()\n",
    "new_df = df\n",
    "print(new_df.head())\n"
   ]
  },
  {
   "cell_type": "code",
   "execution_count": 19,
   "metadata": {},
   "outputs": [
    {
     "data": {
      "text/html": [
       "<div>\n",
       "<style scoped>\n",
       "    .dataframe tbody tr th:only-of-type {\n",
       "        vertical-align: middle;\n",
       "    }\n",
       "\n",
       "    .dataframe tbody tr th {\n",
       "        vertical-align: top;\n",
       "    }\n",
       "\n",
       "    .dataframe thead th {\n",
       "        text-align: right;\n",
       "    }\n",
       "</style>\n",
       "<table border=\"1\" class=\"dataframe\">\n",
       "  <thead>\n",
       "    <tr style=\"text-align: right;\">\n",
       "      <th></th>\n",
       "      <th>Total Players</th>\n",
       "    </tr>\n",
       "  </thead>\n",
       "  <tbody>\n",
       "    <tr>\n",
       "      <th>0</th>\n",
       "      <td>576</td>\n",
       "    </tr>\n",
       "  </tbody>\n",
       "</table>\n",
       "</div>"
      ],
      "text/plain": [
       "  Total Players\n",
       "0           576"
      ]
     },
     "execution_count": 19,
     "metadata": {},
     "output_type": "execute_result"
    }
   ],
   "source": [
    "#Total players\n",
    "\n",
    "TotalPlayers = len(df[\"SN\"].value_counts())\n",
    "TotalPlayers_df = pd.DataFrame(columns = ['Total Players'])\n",
    "TotalPlayers_df.loc[0,'Total Players'] = TotalPlayers\n",
    "TotalPlayers_df"
   ]
  },
  {
   "cell_type": "code",
   "execution_count": 20,
   "metadata": {},
   "outputs": [
    {
     "name": "stdout",
     "output_type": "stream",
     "text": [
      "   Number of Unique Items  Average Price  Number of Purchases  Total Revenue\n",
      "0                     179       3.050987                  780        2379.77\n"
     ]
    }
   ],
   "source": [
    "#Summary of Unique Items, Average Price, Number of Purchases, and Total Revenue\n",
    "#Creating the necessary columns, then making a new df \n",
    "item_count = len(df[\"Item Name\"].value_counts()) \n",
    "avg_price = df['Price'].mean()\n",
    "purchases = df['Price'].count()\n",
    "revenue = df['Price'].sum()\n",
    "summary_df = pd.DataFrame({\"Number of Unique Items\": item_count,\n",
    "                              \"Average Price\": avg_price,\n",
    "                              \"Number of Purchases\": purchases,\n",
    "                              \"Total Revenue\": revenue},index=[0])\n",
    "print(summary_df)"
   ]
  },
  {
   "cell_type": "code",
   "execution_count": 21,
   "metadata": {},
   "outputs": [],
   "source": [
    "# Drop all rows with missing information\n",
    "summary_df = summary_df.dropna(how='any')\n",
    "summary_df\n",
    "\n",
    "Gender_df = df.set_index(\"Gender\")\n",
    "Gender_df.head()\n",
    "\n",
    "gender2 = df.loc[:, [\"Gender\", \"SN\", \"Age\"]]\n",
    "gender3 = gender2.drop_duplicates()\n",
    "gender_group = gender3.groupby([\"Gender\"])\n",
    "gender_group_df = gender_group.count() # new df\n",
    "renamed_df = gender_group_df.rename(columns={\"SN\":\"Total Counts\"}) # new df\n"
   ]
  },
  {
   "cell_type": "code",
   "execution_count": 22,
   "metadata": {},
   "outputs": [
    {
     "data": {
      "text/html": [
       "<div>\n",
       "<style scoped>\n",
       "    .dataframe tbody tr th:only-of-type {\n",
       "        vertical-align: middle;\n",
       "    }\n",
       "\n",
       "    .dataframe tbody tr th {\n",
       "        vertical-align: top;\n",
       "    }\n",
       "\n",
       "    .dataframe thead th {\n",
       "        text-align: right;\n",
       "    }\n",
       "</style>\n",
       "<table border=\"1\" class=\"dataframe\">\n",
       "  <thead>\n",
       "    <tr style=\"text-align: right;\">\n",
       "      <th></th>\n",
       "      <th>Total Counts</th>\n",
       "      <th>Percentage of Players</th>\n",
       "    </tr>\n",
       "    <tr>\n",
       "      <th>Gender</th>\n",
       "      <th></th>\n",
       "      <th></th>\n",
       "    </tr>\n",
       "  </thead>\n",
       "  <tbody>\n",
       "    <tr>\n",
       "      <th>Female</th>\n",
       "      <td>81</td>\n",
       "      <td>14.0</td>\n",
       "    </tr>\n",
       "    <tr>\n",
       "      <th>Male</th>\n",
       "      <td>484</td>\n",
       "      <td>84.0</td>\n",
       "    </tr>\n",
       "    <tr>\n",
       "      <th>Other / Non-Disclosed</th>\n",
       "      <td>11</td>\n",
       "      <td>2.0</td>\n",
       "    </tr>\n",
       "  </tbody>\n",
       "</table>\n",
       "</div>"
      ],
      "text/plain": [
       "                       Total Counts  Percentage of Players\n",
       "Gender                                                    \n",
       "Female                           81                   14.0\n",
       "Male                            484                   84.0\n",
       "Other / Non-Disclosed            11                    2.0"
      ]
     },
     "execution_count": 22,
     "metadata": {},
     "output_type": "execute_result"
    }
   ],
   "source": [
    "gender_percentage = renamed_df[\"Total Counts\"] / TotalPlayers\n",
    "formatted_percentage = round(gender_percentage,2) * 100\n",
    "#format 'Age' as a percentage\n",
    "renamed_df['Age'] = formatted_percentage\n",
    "renamed_df\n",
    "# change column names to correct labels\n",
    "renamed_df.rename(columns={'Age':'Percentage of Players'})"
   ]
  },
  {
   "cell_type": "code",
   "execution_count": 24,
   "metadata": {},
   "outputs": [
    {
     "data": {
      "text/html": [
       "<div>\n",
       "<style scoped>\n",
       "    .dataframe tbody tr th:only-of-type {\n",
       "        vertical-align: middle;\n",
       "    }\n",
       "\n",
       "    .dataframe tbody tr th {\n",
       "        vertical-align: top;\n",
       "    }\n",
       "\n",
       "    .dataframe thead th {\n",
       "        text-align: right;\n",
       "    }\n",
       "</style>\n",
       "<table border=\"1\" class=\"dataframe\">\n",
       "  <thead>\n",
       "    <tr style=\"text-align: right;\">\n",
       "      <th></th>\n",
       "      <th>Purchase Count</th>\n",
       "      <th>Average Purchase Price</th>\n",
       "      <th>Total Purchase Value</th>\n",
       "      <th>Avg Total Purchase per Person</th>\n",
       "    </tr>\n",
       "    <tr>\n",
       "      <th>Gender</th>\n",
       "      <th></th>\n",
       "      <th></th>\n",
       "      <th></th>\n",
       "      <th></th>\n",
       "    </tr>\n",
       "  </thead>\n",
       "  <tbody>\n",
       "    <tr>\n",
       "      <th>Female</th>\n",
       "      <td>113</td>\n",
       "      <td>3.20</td>\n",
       "      <td>361.94</td>\n",
       "      <td>4.47</td>\n",
       "    </tr>\n",
       "    <tr>\n",
       "      <th>Male</th>\n",
       "      <td>652</td>\n",
       "      <td>3.02</td>\n",
       "      <td>1967.64</td>\n",
       "      <td>4.07</td>\n",
       "    </tr>\n",
       "    <tr>\n",
       "      <th>Other / Non-Disclosed</th>\n",
       "      <td>15</td>\n",
       "      <td>3.35</td>\n",
       "      <td>50.19</td>\n",
       "      <td>4.56</td>\n",
       "    </tr>\n",
       "  </tbody>\n",
       "</table>\n",
       "</div>"
      ],
      "text/plain": [
       "                       Purchase Count  Average Purchase Price  \\\n",
       "Gender                                                          \n",
       "Female                            113                    3.20   \n",
       "Male                              652                    3.02   \n",
       "Other / Non-Disclosed              15                    3.35   \n",
       "\n",
       "                       Total Purchase Value  Avg Total Purchase per Person  \n",
       "Gender                                                                      \n",
       "Female                               361.94                           4.47  \n",
       "Male                                1967.64                           4.07  \n",
       "Other / Non-Disclosed                 50.19                           4.56  "
      ]
     },
     "execution_count": 24,
     "metadata": {},
     "output_type": "execute_result"
    }
   ],
   "source": [
    "gender4 = df.loc[:, [\"Gender\",\"SN\",\"Price\"]]\n",
    "gender_group2 = gender4.groupby([\"Gender\"])\n",
    "gender_group2_df = gender_group2.count()\n",
    "renamed2_df = gender_group2_df.rename(columns={\"SN\":\"Purchase Count\"})\n",
    "avg_purchase_price = round(gender_group2['Price'].mean(),2)\n",
    "total_purchase = round(gender_group2['Price'].sum(),2)\n",
    "avg_total_purchase_per = round(total_purchase / renamed_df['Total Counts'],2)\n",
    "avg_total_purchase_per\n",
    "summary_df2 = pd.DataFrame({ \"Purchase Count\": renamed2_df['Purchase Count'],\n",
    "                             \"Average Purchase Price\": avg_purchase_price,\n",
    "                              \"Total Purchase Value\": total_purchase,\n",
    "                             \"Avg Total Purchase per Person\":avg_total_purchase_per})\n",
    "summary_df2"
   ]
  },
  {
   "cell_type": "code",
   "execution_count": 13,
   "metadata": {},
   "outputs": [
    {
     "name": "stderr",
     "output_type": "stream",
     "text": [
      "C:\\Users\\winyi\\anaconda3\\envs\\PythonData\\lib\\site-packages\\ipykernel_launcher.py:3: SettingWithCopyWarning: \n",
      "A value is trying to be set on a copy of a slice from a DataFrame.\n",
      "Try using .loc[row_indexer,col_indexer] = value instead\n",
      "\n",
      "See the caveats in the documentation: https://pandas.pydata.org/pandas-docs/stable/user_guide/indexing.html#returning-a-view-versus-a-copy\n",
      "  This is separate from the ipykernel package so we can avoid doing imports until\n"
     ]
    },
    {
     "data": {
      "text/html": [
       "<div>\n",
       "<style scoped>\n",
       "    .dataframe tbody tr th:only-of-type {\n",
       "        vertical-align: middle;\n",
       "    }\n",
       "\n",
       "    .dataframe tbody tr th {\n",
       "        vertical-align: top;\n",
       "    }\n",
       "\n",
       "    .dataframe thead th {\n",
       "        text-align: right;\n",
       "    }\n",
       "</style>\n",
       "<table border=\"1\" class=\"dataframe\">\n",
       "  <thead>\n",
       "    <tr style=\"text-align: right;\">\n",
       "      <th></th>\n",
       "      <th>Total Count</th>\n",
       "      <th>Percentage of Players</th>\n",
       "    </tr>\n",
       "  </thead>\n",
       "  <tbody>\n",
       "    <tr>\n",
       "      <th>&lt;10</th>\n",
       "      <td>17</td>\n",
       "      <td>2.95</td>\n",
       "    </tr>\n",
       "    <tr>\n",
       "      <th>10-14</th>\n",
       "      <td>22</td>\n",
       "      <td>3.82</td>\n",
       "    </tr>\n",
       "    <tr>\n",
       "      <th>15-19</th>\n",
       "      <td>107</td>\n",
       "      <td>18.58</td>\n",
       "    </tr>\n",
       "    <tr>\n",
       "      <th>20-24</th>\n",
       "      <td>258</td>\n",
       "      <td>44.79</td>\n",
       "    </tr>\n",
       "    <tr>\n",
       "      <th>25-29</th>\n",
       "      <td>77</td>\n",
       "      <td>13.37</td>\n",
       "    </tr>\n",
       "    <tr>\n",
       "      <th>30-34</th>\n",
       "      <td>52</td>\n",
       "      <td>9.03</td>\n",
       "    </tr>\n",
       "    <tr>\n",
       "      <th>35-39</th>\n",
       "      <td>31</td>\n",
       "      <td>5.38</td>\n",
       "    </tr>\n",
       "    <tr>\n",
       "      <th>40+</th>\n",
       "      <td>12</td>\n",
       "      <td>2.08</td>\n",
       "    </tr>\n",
       "  </tbody>\n",
       "</table>\n",
       "</div>"
      ],
      "text/plain": [
       "       Total Count  Percentage of Players\n",
       "<10             17                   2.95\n",
       "10-14           22                   3.82\n",
       "15-19          107                  18.58\n",
       "20-24          258                  44.79\n",
       "25-29           77                  13.37\n",
       "30-34           52                   9.03\n",
       "35-39           31                   5.38\n",
       "40+             12                   2.08"
      ]
     },
     "execution_count": 13,
     "metadata": {},
     "output_type": "execute_result"
    }
   ],
   "source": [
    "age_bins = ([0,9,14,19,24,29,34,39,999])\n",
    "labels = [\"<10\", \"10-14\", \"15-19\", \"20-24\", \"25-29\", \"30-34\", \"35-39\", \"40+\"]\n",
    "gender3[\"Total Count\"] = pd.cut(gender3[\"Age\"], age_bins, labels=labels, include_lowest=True)\n",
    "Total_Count_df = pd.DataFrame(gender3[\"Total Count\"].value_counts())\n",
    "Total_Count_df[\"Percentage of Players\"] = ((Total_Count_df[\"Total Count\"]/(Total_Count_df[\"Total Count\"].sum())) * 100).round(2)\n",
    "\n",
    "\n",
    "sorted_df = Total_Count_df.sort_index()\n",
    "\n",
    "sorted_df"
   ]
  },
  {
   "cell_type": "code",
   "execution_count": 8,
   "metadata": {},
   "outputs": [
    {
     "name": "stdout",
     "output_type": "stream",
     "text": [
      "            Purchase Count  Average Purchase Price  Total Purchase Value\n",
      "Age Ranges                                                              \n",
      "<10                     23                    3.35                 77.13\n",
      "10-14                   28                    2.96                 82.78\n",
      "15-19                  136                    3.04                412.89\n",
      "20-24                  365                    3.05               1114.06\n",
      "25-29                  101                    2.90                293.00\n",
      "30-34                   73                    2.93                214.00\n",
      "35-39                   41                    3.60                147.67\n",
      "40+                     13                    2.94                 38.24\n"
     ]
    }
   ],
   "source": [
    "#purchasing age analysis - columns = Purchase Coutn, Avg Purchase Price, Total Purchase Price, Avg Total Purchase per Person\n",
    "df['Age Ranges'] = pd.cut(df['Age'], age_bins, labels=labels, include_lowest=True)\n",
    "age_analysis = df.groupby('Age Ranges')                        \n",
    "age_analysis.head()\n",
    "\n",
    "pur_count = age_analysis['Purchase ID'].count()\n",
    "avg_pur_price = (age_analysis['Price'].mean()).round(2)\n",
    "tot_pur_val = age_analysis['Price'].sum()\n",
    "\n",
    "# create new df\n",
    "analysis_summary = pd.DataFrame({\"Purchase Count\": pur_count,\n",
    "                                 \"Average Purchase Price\": avg_pur_price,\n",
    "                                 \"Total Purchase Value\": tot_pur_val})\n",
    "print(analysis_summary)\n"
   ]
  },
  {
   "cell_type": "code",
   "execution_count": 9,
   "metadata": {},
   "outputs": [
    {
     "name": "stdout",
     "output_type": "stream",
     "text": [
      "             Purchase Count  Average Purchase  Total Purchase Value\n",
      "SN                                                                 \n",
      "Lisosia93                 5          3.792000                 18.96\n",
      "Idastidru52               4          3.862500                 15.45\n",
      "Chamjask73                3          4.610000                 13.83\n",
      "Iral74                    4          3.405000                 13.62\n",
      "Iskadarya95               3          4.366667                 13.10\n"
     ]
    }
   ],
   "source": [
    "#Top 5 spenders\n",
    "# create columns\n",
    "spender =df.groupby('SN')\n",
    "\n",
    "top_count=spender['Purchase ID'].count()\n",
    "\n",
    "avg_price=spender['Price'].mean()\n",
    "\n",
    "total_purchase =spender['Price'].sum()\n",
    "#add them to new df\n",
    "top5_df =pd.DataFrame({'Purchase Count': top_count,\n",
    "                        'Average Purchase' : avg_price,\n",
    "                        'Total Purchase Value' : total_purchase})\n",
    "top5_df.style.format({'Average Purchase Price':\"${:,.2f}\", 'Total Purchase Value':\"${:,.2f}\"})\n",
    "#use nlargest to return top 5\n",
    "top_5 = top5_df.nlargest(5,'Total Purchase Value')\n",
    "top_5.style.format({'Average Purchase Price':\"${:,.2f}\", 'Total Purchase Value':\"${:,.2f}\"})\n",
    "print(top_5)"
   ]
  },
  {
   "cell_type": "code",
   "execution_count": 10,
   "metadata": {},
   "outputs": [
    {
     "name": "stdout",
     "output_type": "stream",
     "text": [
      "                                                      Purchase Count  Price  \\\n",
      "Item ID Item Name                                                             \n",
      "92      Final Critic                                              13   4.61   \n",
      "178     Oathbreaker, Last Hope of the Breaking Storm              12   4.23   \n",
      "82      Nirvana                                                    9   4.90   \n",
      "108     Extraction, Quickblade Of Trembling Hands                  9   3.53   \n",
      "132     Persuasion                                                 9   3.22   \n",
      "\n",
      "                                                      Total Purchase Value  \n",
      "Item ID Item Name                                                           \n",
      "92      Final Critic                                                 59.99  \n",
      "178     Oathbreaker, Last Hope of the Breaking Storm                 50.76  \n",
      "82      Nirvana                                                      44.10  \n",
      "108     Extraction, Quickblade Of Trembling Hands                    31.77  \n",
      "132     Persuasion                                                   28.99  \n"
     ]
    }
   ],
   "source": [
    "#Most Popular Items\n",
    " \n",
    "#Retrieve the Item ID, Item Name, and Item Price columns\n",
    "#Group by Item ID and Item Name. obtain purchase count, item price, and total purchase value\n",
    "\n",
    "popular = df[['Item ID', 'Item Name', 'Price']]\n",
    "group = popular.groupby(['Item ID', 'Item Name'])\n",
    "count = group['Item ID'].count()\n",
    "item_price = (group['Price'].sum()/count).round(2)\n",
    "price = group['Price'].sum()\n",
    "\n",
    "top5_df = pd.DataFrame({'Purchase Count': count,\n",
    "                       'Price': item_price,\n",
    "                       'Total Purchase Value': price})\n",
    "top5 = top5_df.nlargest(5,'Purchase Count')\n",
    "print(top5)\n",
    "                                      "
   ]
  },
  {
   "cell_type": "code",
   "execution_count": 11,
   "metadata": {},
   "outputs": [
    {
     "name": "stdout",
     "output_type": "stream",
     "text": [
      "                                                      Purchase Count  Price  \\\n",
      "Item ID Item Name                                                             \n",
      "92      Final Critic                                              13   4.61   \n",
      "178     Oathbreaker, Last Hope of the Breaking Storm              12   4.23   \n",
      "82      Nirvana                                                    9   4.90   \n",
      "145     Fiery Glass Crusader                                       9   4.58   \n",
      "103     Singed Scalpel                                             8   4.35   \n",
      "\n",
      "                                                      Total Purchase Value  \n",
      "Item ID Item Name                                                           \n",
      "92      Final Critic                                                 59.99  \n",
      "178     Oathbreaker, Last Hope of the Breaking Storm                 50.76  \n",
      "82      Nirvana                                                      44.10  \n",
      "145     Fiery Glass Crusader                                         41.22  \n",
      "103     Singed Scalpel                                               34.80  \n"
     ]
    }
   ],
   "source": [
    "#Most Profitable\n",
    "\n",
    "profit5 = top5_df.nlargest(5,'Total Purchase Value')\n",
    "print(profit5)"
   ]
  }
 ],
 "metadata": {
  "kernelspec": {
   "display_name": "Python [conda env:PythonData]",
   "language": "python",
   "name": "conda-env-PythonData-py"
  },
  "language_info": {
   "codemirror_mode": {
    "name": "ipython",
    "version": 3
   },
   "file_extension": ".py",
   "mimetype": "text/x-python",
   "name": "python",
   "nbconvert_exporter": "python",
   "pygments_lexer": "ipython3",
   "version": "3.6.10"
  }
 },
 "nbformat": 4,
 "nbformat_minor": 4
}
